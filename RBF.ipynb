{
  "nbformat": 4,
  "nbformat_minor": 0,
  "metadata": {
    "colab": {
      "name": "RBF.ipynb",
      "provenance": [],
      "collapsed_sections": []
    },
    "kernelspec": {
      "name": "python3",
      "display_name": "Python 3"
    }
  },
  "cells": [
    {
      "cell_type": "code",
      "metadata": {
        "id": "Qe9wsKmuxfb-"
      },
      "source": [
        "import keras\r\n",
        "from keras.datasets import mnist\r\n",
        "import numpy as np\r\n",
        "import matplotlib.pyplot as plt\r\n",
        "import time"
      ],
      "execution_count": null,
      "outputs": []
    },
    {
      "cell_type": "code",
      "metadata": {
        "id": "_2etRMbHxpBb"
      },
      "source": [
        "(x_train,y_train),(x_test,y_test)=mnist.load_data()"
      ],
      "execution_count": null,
      "outputs": []
    },
    {
      "cell_type": "code",
      "metadata": {
        "id": "-zInaLLExrLB"
      },
      "source": [
        "# transform labels to int type\r\n",
        "y_train=y_train.astype(int)\r\n",
        "y_test=y_test.astype(int)"
      ],
      "execution_count": null,
      "outputs": []
    },
    {
      "cell_type": "code",
      "metadata": {
        "id": "pmXdlCJ0x4P9"
      },
      "source": [
        "# for train set, change the odd labels with 1, and the even labels with 0\r\n",
        "y_train[(y_train%2)!=0]=1\r\n",
        "y_train[(y_train%2)==0]=0\r\n"
      ],
      "execution_count": null,
      "outputs": []
    },
    {
      "cell_type": "code",
      "metadata": {
        "id": "w9qp29wwx51Q"
      },
      "source": [
        "# for test set, change the odd labels with 1, and the even labels with 0\r\n",
        "y_test[(y_test%2)!=0]=1\r\n",
        "y_test[(y_test%2)==0]=0"
      ],
      "execution_count": null,
      "outputs": []
    },
    {
      "cell_type": "code",
      "metadata": {
        "id": "G92Yi-HGx7Y5"
      },
      "source": [
        "# preprocess dataset\r\n",
        "# not used here\r\n",
        "x_train = x_train.astype('float32')\r\n",
        "x_test = x_test.astype('float32')\r\n",
        "x_train = x_train / 255\r\n",
        "x_test = x_test / 255 "
      ],
      "execution_count": null,
      "outputs": []
    },
    {
      "cell_type": "code",
      "metadata": {
        "id": "a85Rwrgfx81y"
      },
      "source": [
        "x_train=np.reshape(x_train,(len(x_train),784))\r\n",
        "x_test=np.reshape(x_test,(len(x_test),784))"
      ],
      "execution_count": null,
      "outputs": []
    },
    {
      "cell_type": "code",
      "metadata": {
        "id": "s30oAiZzx-fH"
      },
      "source": [
        "x_train=x_train[:3000]\r\n",
        "y_train=y_train[:3000]"
      ],
      "execution_count": null,
      "outputs": []
    },
    {
      "cell_type": "code",
      "metadata": {
        "id": "1hyS6cIpyAYb"
      },
      "source": [
        "x_test=x_test[:600]\r\n",
        "y_test=y_test[:600]"
      ],
      "execution_count": null,
      "outputs": []
    },
    {
      "cell_type": "code",
      "metadata": {
        "id": "9JGk8wiVyETt"
      },
      "source": [
        "def PCA(x, y, d):\r\n",
        "    x_mean = np.mean(x, axis=0)\r\n",
        "    x = x - x_mean\r\n",
        "    # compute covariance matrix of x row-wise\r\n",
        "    s_x = np.cov(x.T)\r\n",
        "    # computing eigenvalues of covariance matrix\r\n",
        "    eig_values, eigvectors = np.linalg.eig(s_x)\r\n",
        "    # get the transpose of eigenvectors\r\n",
        "    eigvectors = eigvectors.T\r\n",
        "    # sort the index counter in descending order\r\n",
        "    ix = np.argsort(eig_values)[::-1]\r\n",
        "    eigvalues = eig_values[ix]\r\n",
        "    eigvectors = eigvectors[ix]\r\n",
        "    # compute the new matrix w keeping the d most significant values of the eigenvector\r\n",
        "    w = eigvectors[0:d]\r\n",
        "    # substract mean of training data out of test data\r\n",
        "    y = y - x_mean\r\n",
        "    # project the eigvector onto the train data space\r\n",
        "    pca = np.dot(x, w.T)\r\n",
        "    # project the eigvector onto the test data space\r\n",
        "    pca_test = np.dot(y, w.T)\r\n",
        "    # plot the eigen values and the number of principal components\r\n",
        "    plt.figure(figsize=(10,5))\r\n",
        "    plt.ylabel('Eigen Value')\r\n",
        "    plt.xlabel('# Principal components')\r\n",
        "    plt.ylim(0, 1)\r\n",
        "    plt.scatter(range(eig_values.shape[0]),eigvalues,c = \"purple\", marker = '.')\r\n",
        "    plt.figure()\r\n",
        "    plt.tight_layout()\r\n",
        "    plt.show()\r\n",
        "    return pca, pca_test\r\n"
      ],
      "execution_count": null,
      "outputs": []
    },
    {
      "cell_type": "code",
      "metadata": {
        "id": "KBw-pfh6yeZO",
        "colab": {
          "base_uri": "https://localhost:8080/",
          "height": 410
        },
        "outputId": "013ad525-612e-4000-812f-e891fc09b5ea"
      },
      "source": [
        "M_p, M_p_te = PCA(x_train, x_test, 200)"
      ],
      "execution_count": null,
      "outputs": [
        {
          "output_type": "stream",
          "text": [
            "/usr/local/lib/python3.6/dist-packages/numpy/core/_asarray.py:136: ComplexWarning: Casting complex values to real discards the imaginary part\n",
            "  return array(a, dtype, copy=False, order=order, subok=True)\n"
          ],
          "name": "stderr"
        },
        {
          "output_type": "display_data",
          "data": {
            "image/png": "[encoded data removed]",
            "text/plain": [
              "<Figure size 720x360 with 1 Axes>"
            ]
          },
          "metadata": {
            "tags": [],
            "needs_background": "light"
          }
        },
        {
          "output_type": "display_data",
          "data": {
            "text/plain": [
              "<Figure size 432x288 with 0 Axes>"
            ]
          },
          "metadata": {
            "tags": []
          }
        }
      ]
    },
    {
      "cell_type": "code",
      "metadata": {
        "id": "WLEvsR_Wygey",
        "colab": {
          "base_uri": "https://localhost:8080/",
          "height": 375
        },
        "outputId": "2327e9da-f09a-4327-cc03-d223c69693c5"
      },
      "source": [
        "import matplotlib.pyplot as plt\r\n",
        "plt.figure(figsize=(10,5))\r\n",
        "b0 = y_train == 0\r\n",
        "b1 = y_train == 1\r\n",
        "p0 = M_p[b0 == 1, :]\r\n",
        "p1 = M_p[b1 == 1, :]\r\n",
        "plt.scatter(p0[:,0], p0[:,1], c=\"navy\", marker='.')\r\n",
        "plt.scatter(p1[:,0], p1[:,1], c=\"violet\", marker='.')\r\n",
        "plt.show()"
      ],
      "execution_count": null,
      "outputs": [
        {
          "output_type": "stream",
          "text": [
            "/usr/local/lib/python3.6/dist-packages/numpy/core/_asarray.py:136: ComplexWarning: Casting complex values to real discards the imaginary part\n",
            "  return array(a, dtype, copy=False, order=order, subok=True)\n"
          ],
          "name": "stderr"
        },
        {
          "output_type": "display_data",
          "data": {
            "image/png": "[encoded data removed]",
            "text/plain": [
              "<Figure size 720x360 with 1 Axes>"
            ]
          },
          "metadata": {
            "tags": [],
            "needs_background": "light"
          }
        }
      ]
    },
    {
      "cell_type": "code",
      "metadata": {
        "id": "7E_oYobgzLhj"
      },
      "source": [
        "from collections import Counter"
      ],
      "execution_count": null,
      "outputs": []
    },
    {
      "cell_type": "code",
      "metadata": {
        "id": "wXlG316lzNwm"
      },
      "source": [
        "# function that caculates the euclidean distance\r\n",
        "def euclidean_distance(x1, x2):\r\n",
        "    return np.sqrt(np.sum((x1 - x2) ** 2))"
      ],
      "execution_count": null,
      "outputs": []
    },
    {
      "cell_type": "code",
      "metadata": {
        "id": "O2tStMbszRrU"
      },
      "source": [
        "# the k-nearest neighbor class\r\n",
        "class KNN:\r\n",
        "\r\n",
        "    def __init__(self, k):\r\n",
        "        self.k = k\r\n",
        "\r\n",
        "    def fit(self, X, y):\r\n",
        "        self.X_train = X\r\n",
        "        self.y_train = y\r\n",
        "\r\n",
        "    def predict(self, X):\r\n",
        "        y_pred = [self._predict(x) for x in X]\r\n",
        "        return np.array(y_pred)\r\n",
        "\r\n",
        "    def _predict(self, x):\r\n",
        "        # Compute distances between x and all examples in the training set\r\n",
        "        distances = [euclidean_distance(x, x_train) for x_train in self.X_train]\r\n",
        "        # Sort by distance and return indices of the first k neighbors\r\n",
        "        k_idx = np.argsort(distances)[:self.k]\r\n",
        "        # Get the labels of the k nearest neighbor training samples\r\n",
        "        k_neighbor_labels = [self.y_train[i] for i in k_idx]\r\n",
        "        # return the most common class label\r\n",
        "        most_common = Counter(k_neighbor_labels).most_common(1)\r\n",
        "        return most_common[0][0]"
      ],
      "execution_count": null,
      "outputs": []
    },
    {
      "cell_type": "code",
      "metadata": {
        "id": "4C_AfCozzW4_"
      },
      "source": [
        "# the nearest centroid class\r\n",
        "class NearestCentroid:\r\n",
        "    def __init__(self, images, labels):\r\n",
        "        self.images = images\r\n",
        "        self.labels = labels\r\n",
        "        self.num_images = len(images)\r\n",
        "\r\n",
        "    def fit(self):\r\n",
        "        classes = np.unique(self.labels)\r\n",
        "        self.classes = classes\r\n",
        "\r\n",
        "        centroids = np.empty((classes.shape[0], self.images.shape[1]))\r\n",
        "        # master list\r\n",
        "        label_to_image = []                                     \r\n",
        "\r\n",
        "        for cl in classes:\r\n",
        "            # create a list for each class \r\n",
        "            img_label = []                                      \r\n",
        "            for j in range(0, self.num_images):\r\n",
        "                # if the label equals the picture label\r\n",
        "                if self.labels[j] == cl: \r\n",
        "                    # append to list                      \r\n",
        "                    img_label.append(self.images[j])\r\n",
        "            # append to master list                   \r\n",
        "            label_to_image.append(img_label)                    \r\n",
        "        # calculate the mean for centroids\r\n",
        "        for i in range(0, len(classes)):  \r\n",
        "            centroids[i] = np.mean(label_to_image[i], axis=0)\r\n",
        "        self.centroids = centroids\r\n",
        "\r\n",
        "    def predict(self, images):\r\n",
        "        classified = []\r\n",
        "        for image in images:\r\n",
        "            smallest_dist = 99999999\r\n",
        "            cl = None\r\n",
        "            for i, centroid in enumerate(self.centroids):\r\n",
        "               # calculate the distance of the picture to each centroid\r\n",
        "                dist = np.sqrt(np.sum((image - centroid) ** 2)) \r\n",
        "                if dist < smallest_dist:\r\n",
        "                    smallest_dist = dist\r\n",
        "                    cl = i\r\n",
        "            # append classified picture\r\n",
        "            classified.append([cl])                                 \r\n",
        "\r\n",
        "        return classified"
      ],
      "execution_count": null,
      "outputs": []
    },
    {
      "cell_type": "code",
      "metadata": {
        "id": "o_fBzrSZzZex"
      },
      "source": [
        "# fucntion that calculates accuracy\r\n",
        "def accuracy(y_true, y_pred):\r\n",
        "    acc = np.sum(y_true == y_pred) / len(y_true)\r\n",
        "    return acc"
      ],
      "execution_count": null,
      "outputs": []
    },
    {
      "cell_type": "code",
      "metadata": {
        "id": "1OmygvfvzbFK",
        "colab": {
          "base_uri": "https://localhost:8080/"
        },
        "outputId": "1c5fca5d-40d1-4025-d282-3060afbeace0"
      },
      "source": [
        "start = time.time()\r\n",
        "\r\n",
        "clf_knn=KNN(k=3)\r\n",
        "clf_knn.fit(x_train,y_train)\r\n",
        "predicts=clf_knn.predict(x_test)\r\n",
        "print(\"k-NN classification accuracy: \", format(accuracy(y_test, predicts) * 100, \".4f\"), \"%\")\r\n",
        "\r\n",
        "end = time.time()\r\n",
        "print(end - start)"
      ],
      "execution_count": null,
      "outputs": [
        {
          "output_type": "stream",
          "text": [
            "k-NN classification accuracy:  93.6667 %\n",
            "19.486527681350708\n"
          ],
          "name": "stdout"
        }
      ]
    },
    {
      "cell_type": "code",
      "metadata": {
        "id": "AtpoQXbdzdBp",
        "colab": {
          "base_uri": "https://localhost:8080/"
        },
        "outputId": "1ae10422-8121-4fa1-ed6c-651acc3fc6f8"
      },
      "source": [
        "start = time.time()\r\n",
        "\r\n",
        "\r\n",
        "clf_nc = NearestCentroid(x_train, y_train) # call nearest centroid class\r\n",
        "# fit the training images and labels\r\n",
        "clf_nc.fit()\r\n",
        "# predict results with test images\r\n",
        "predictions2 = clf_nc.predict(x_test)\r\n",
        "  \r\n",
        "predictions2 = np.array(predictions2)\r\n",
        "predictions2 = predictions2.flatten()\r\n",
        "\r\n",
        "#print(\"Predictions of nearest centroid: \", predictions2)\r\n",
        "# find the accuracy using predicitions and test labels at a scale of 100\r\n",
        "print(\"Nearest Centroid classification accuracy: \", format(accuracy(y_test, predictions2)*100, \".4f\"), \"%\")\r\n",
        "\r\n",
        "end = time.time()\r\n",
        "print(end - start)"
      ],
      "execution_count": null,
      "outputs": [
        {
          "output_type": "stream",
          "text": [
            "Nearest Centroid classification accuracy:  80.3333 %\n",
            "0.02954411506652832\n"
          ],
          "name": "stdout"
        }
      ]
    },
    {
      "cell_type": "code",
      "metadata": {
        "id": "4yYOkLaIYzWT"
      },
      "source": [
        "def distance(x1, x2):\r\n",
        "  return np.linalg.norm(x1-x2)"
      ],
      "execution_count": null,
      "outputs": []
    },
    {
      "cell_type": "code",
      "metadata": {
        "id": "u2I--tflPNuw"
      },
      "source": [
        "# function for random selection of centroids for RBF\r\n",
        "def random(X, k):\r\n",
        "    return X[np.random.choice(X.shape[0], k, replace=False)], [np.std(x) for x in X]"
      ],
      "execution_count": null,
      "outputs": []
    },
    {
      "cell_type": "code",
      "metadata": {
        "id": "N-CGHv5HR7Rf"
      },
      "source": [
        "# function of k means for selection of centroids for RBF\r\n",
        "def kmeans(X, k, max_iters=20):\r\n",
        "    centroids = X[np.random.choice(range(len(X)), k, replace=False)\r\n",
        "\r\n",
        "    converged = False\r\n",
        "    current_iter = 0\r\n",
        "\r\n",
        "    while (not converged) and (current_iter < max_iters):\r\n",
        "\r\n",
        "        cluster_list = [[] for i in range(len(centroids))]\r\n",
        "\r\n",
        "        for x in X:  \r\n",
        "            distances_list = []\r\n",
        "            for c in centroids:\r\n",
        "                distances_list.append(distance(c, x))\r\n",
        "            cluster_list[int(np.argmin(distances_list))].append(x)\r\n",
        "\r\n",
        "        cluster_list = list((filter(None, cluster_list)))\r\n",
        "\r\n",
        "        prev_centroids = centroids.copy()\r\n",
        "\r\n",
        "        centroids = []\r\n",
        "\r\n",
        "        for j in range(len(cluster_list)):\r\n",
        "            centroids.append(np.mean(cluster_list[j], axis=0))\r\n",
        "\r\n",
        "        pattern = np.abs(np.sum(prev_centroids) - np.sum(centroids))\r\n",
        "\r\n",
        "        print('K-MEANS: ', int(pattern))\r\n",
        "\r\n",
        "        converged = (pattern == 0)\r\n",
        "\r\n",
        "        current_iter += 1\r\n",
        "\r\n",
        "    return np.array(centroids),  [np.std(x) for x in cluster_list]\r\n"
      ],
      "execution_count": null,
      "outputs": []
    },
    {
      "cell_type": "code",
      "metadata": {
        "id": "FI0mFGAja9nL"
      },
      "source": [
        "class RBF:\r\n",
        "\r\n",
        "    def __init__(self, X, y, testX, testy, classes_n, k, method=kmeans, std_from_clusters=True):\r\n",
        "        self.X = X\r\n",
        "        self.y = y\r\n",
        "\r\n",
        "        self.testX = testX\r\n",
        "        self.testy = testy\r\n",
        "\r\n",
        "        self.classes_n = classes_n\r\n",
        "        self.k = k\r\n",
        "        self.method = method\r\n",
        "        self.std_from_clusters = std_from_clusters\r\n",
        "\r\n",
        "    # convert labels to hot encoding\r\n",
        "    def hot_encoding(self, x, classes_n):\r\n",
        "        arr = np.zeros((len(x), classes_n))\r\n",
        "        for i in range(len(x)):\r\n",
        "            c = int(x[i])\r\n",
        "            arr[i][c] = 1\r\n",
        "        return arr\r\n",
        "\r\n",
        "    # rbf function\r\n",
        "    def get_rbf(self, x, c, sigma):\r\n",
        "        distance_r = distance(x, c)\r\n",
        "        return 1 / np.exp(-distance_r / sigma ** 2)\r\n",
        "\r\n",
        "    # get the rbf of input x\r\n",
        "    def get_rbf_as_list(self, X, centroids, std_list):\r\n",
        "        RBF_list = []\r\n",
        "        for x in X:\r\n",
        "            RBF_list.append([self.get_rbf(x, c, s) for (c, s) in zip(centroids, std_list)])\r\n",
        "        return np.array(RBF_list)\r\n",
        "\r\n",
        "    def fit(self):\r\n",
        "        # get the centroids\r\n",
        "        \r\n",
        "        self.centroids, self.std_list = self.method(self.X, self.k)\r\n",
        "        \r\n",
        "        if not self.std_from_clusters:\r\n",
        "          dMax = np.max([distance(c1, c2) for c1 in self.centroids for c2 in self.centroids])\r\n",
        "          self.std_list = np.repeat(dMax / np.sqrt(2 * self.k), self.k)\r\n",
        "        \r\n",
        "        # set rbf of input as the list of centroids\r\n",
        "        RBF_X = self.get_rbf_as_list(self.X, self.centroids, self.std_list)\r\n",
        "        # find weight\r\n",
        "        self.w = np.linalg.pinv(RBF_X.T @ RBF_X) @ RBF_X.T @ self.hot_encoding(self.y, self.classes_n)\r\n",
        "        # get rbf of test data as list of centroids\r\n",
        "        RBF_list_tst = self.get_rbf_as_list(self.testX, self.centroids, self.std_list)\r\n",
        "        # find predicted labels of test\r\n",
        "        self.pred_testy = RBF_list_tst @ self.w\r\n",
        "        # get the one with the biggest predicted probability\r\n",
        "        self.pred_testy = np.array([np.argmax(x) for x in self.pred_testy])\r\n",
        "        # find the difference between predicted and actual labels\r\n",
        "        diff = self.pred_testy - self.testy\r\n",
        "        # print accuracy\r\n",
        "        print('Accuracy: ', len(np.where(diff == 0)[0]) / len(diff))\r\n"
      ],
      "execution_count": null,
      "outputs": []
    },
    {
      "cell_type": "code",
      "metadata": {
        "id": "5uHPRYb9bK9Y",
        "colab": {
          "base_uri": "https://localhost:8080/"
        },
        "outputId": "16ae6ecd-3b97-4e30-8297-5172ae269bb0"
      },
      "source": [
        "#rbf for train\r\n",
        "start = time.time()\r\n",
        "RBF_CLASSIFIER = RBF(x_train, y_train, x_train, y_train, classes_n=2,\r\n",
        "                     k=2, method=random, std_from_clusters=False)\r\n",
        "\r\n",
        "rbf_pred = RBF_CLASSIFIER.fit()\r\n",
        "\r\n",
        "end = time.time()\r\n",
        "print(end - start)"
      ],
      "execution_count": null,
      "outputs": [
        {
          "output_type": "stream",
          "text": [
            "Accuracy:  0.698\n",
            "0.24852418899536133\n"
          ],
          "name": "stdout"
        }
      ]
    },
    {
      "cell_type": "code",
      "metadata": {
        "id": "u9uChh5ZlLX3",
        "colab": {
          "base_uri": "https://localhost:8080/"
        },
        "outputId": "9c445e8f-11c3-48d5-fb48-279d7856c2f7"
      },
      "source": [
        "#rbf for test\r\n",
        "start = time.time()\r\n",
        "RBF_CLASSIFIER = RBF(x_train, y_train, x_test, y_test, classes_n=2,\r\n",
        "                     k=2, method=random, std_from_clusters=False)\r\n",
        "\r\n",
        "rbf_pred = RBF_CLASSIFIER.fit()\r\n",
        "\r\n",
        "end = time.time()\r\n",
        "print(end - start)"
      ],
      "execution_count": null,
      "outputs": [
        {
          "output_type": "stream",
          "text": [
            "Accuracy:  0.52\n",
            "0.1778411865234375\n"
          ],
          "name": "stdout"
        }
      ]
    },
    {
      "cell_type": "code",
      "metadata": {
        "id": "I3QaFR6VkLH3"
      },
      "source": [
        ""
      ],
      "execution_count": null,
      "outputs": []
    }
  ]
}